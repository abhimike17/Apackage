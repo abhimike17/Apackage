{
 "cells": [
  {
   "cell_type": "markdown",
   "metadata": {},
   "source": [
    "## Table Of Contents\n",
    "* [Purpose](#Purpose)\n",
    "* [Dependencies](#Dependencies)\n",
    "    * [Python and Anaconda installation](#Python-and-Anaconda-installation)\n",
    "    * [A Python kernel for Jupyter notebooks](#A-Python-kernel-for-Jupyter-notebooks)\n",
    "    * [Load the Python Packages](#Load-the-Python-Packages)\n",
    "* [Inputs](#inputs)\n",
    "* [Outputs](#Outputs)\n",
    "    * [Tabular Data](#Tabular-Data)\n",
    "    * [Map](#Map)\n",
    "    * [Bar Chart](#Bar-Chart)\n",
    "* [Code](#Code)\n",
    "* [Provenance](#Provenance)\n",
    "* [Citations](#Citations)\n",
    "\n",
    "\n",
    "\n",
    "\n",
    "\n",
    "\n",
    "    "
   ]
  },
  {
   "cell_type": "markdown",
   "metadata": {},
   "source": [
    "# Purpose\n",
    "The purpose of this analysis package is to provide greater understanding of plant-pollinator networks and land management activities that improve pollinator habitat through Data-Visualization using Python Packages. The aim of the Pollinator Library is to support management and research of plant-pollinator systems by documenting, synthesizing, and disseminating information on flowers that are utilized by pollinators and other insects."
   ]
  },
  {
   "cell_type": "markdown",
   "metadata": {},
   "source": [
    "# Dependencies\n",
    "\n",
    "Several software packages are required to run this scientific code in a Jupyter notebook.\n",
    "\n",
    "## Python and Anaconda installation <a class=\"anchor\" id=\"Python-and-Anaconda-installation\"></a>\n",
    "\n",
    "Instructions on installing the software environment is available at the(https://www.anaconda.com/download/). Conda is a powerful package manager and environment manager that you use with command line commands at the Anaconda Prompt for Windows, or in a Terminal window for macOS or Linux..\n",
    "   \n",
    "## A Python kernel for Jupyter notebooks <a class=\"anchor\" id=\"A-Python-kernel-for-Jupyter-notebooks\"></a>\n",
    "\n",
    " This notebook uses [Python3 Kernel](https://ipython.readthedocs.io/en/latest/install/kernel_install.html).  "
   ]
  },
  {
   "cell_type": "markdown",
   "metadata": {},
   "source": [
    "## Load the Python Packages <a class=\"anchor\" id=\"Load-the-Python-Packages\"></a>"
   ]
  },
  {
   "cell_type": "code",
   "execution_count": 1,
   "metadata": {
    "ExecuteTime": {
     "end_time": "2018-05-07T01:55:04.588216Z",
     "start_time": "2018-05-07T01:55:04.554Z"
    }
   },
   "outputs": [],
   "source": [
    "from collections import defaultdict,Counter, namedtuple\n",
    "from operator import itemgetter, attrgetter\n",
    "from urllib.request import Request, urlopen\n",
    "from pandas.io.json import json_normalize\n",
    "import json\n",
    "import pandas as pd\n",
    "import shlex\n",
    "from IPython.display import display, Javascript, HTML\n",
    "import folium\n",
    "import plotly.plotly as py\n",
    "import plotly.graph_objs as go\n",
    "import itertools \n",
    "from itertools import groupby\n",
    "import iplotter\n",
    "from ipysankeywidget import SankeyWidget\n",
    "import plotly\n",
    "import plotly.graph_objs as go\n",
    "plotly.tools.set_credentials_file(username='abhimike17', api_key='YtVTWLxeARvUWeNYurX7')"
   ]
  },
  {
   "cell_type": "code",
   "execution_count": 2,
   "metadata": {
    "ExecuteTime": {
     "end_time": "2018-05-07T02:19:06.867980Z",
     "start_time": "2018-05-07T02:19:06.629Z"
    }
   },
   "outputs": [],
   "source": [
    "# Import the REST API Web Service and filter the data\n",
    "api = Request('http://127.0.0.1:8000/pdatas/')\n",
    "Iapi = Request('http://127.0.0.1:8000/locations/')\n",
    "Papi = Request('http://127.0.0.1:8000/locationspsearch/')\n",
    "\n",
    "\n",
    "json_obj = urlopen(api)\n",
    "pdata = json.load(json_obj)\n",
    "\n",
    "Ijson_obj = urlopen(Iapi)\n",
    "locI = json.load(Ijson_obj)\n",
    "\n",
    "Pjson_obj = urlopen(Papi)\n",
    "locP = json.load(Pjson_obj)\n"
   ]
  },
  {
   "cell_type": "code",
   "execution_count": 3,
   "metadata": {},
   "outputs": [],
   "source": [
    "yi = filter(lambda x:x['insecttaxon'] == \"Bombus rufocinctus\", locI)\n",
    "xi = list(yi)\n",
    "lo = []\n",
    "for k in xi:\n",
    "    lo.append(k['latitude'])"
   ]
  },
  {
   "cell_type": "markdown",
   "metadata": {},
   "source": [
    "# Inputs\n",
    "The operational Pollinator Analysis Prototype retrieves data in real-time from the (https://www.npwrc.usgs.gov/pollinator/)'s REST API Web Processing Service."
   ]
  },
  {
   "cell_type": "code",
   "execution_count": 4,
   "metadata": {},
   "outputs": [],
   "source": [
    "# #Mention the Taxon for search and get the desired output\n",
    "y = filter(lambda x:x['insecttaxon'] == \"Bombus rufocinctus\", pdata)\n",
    "x = list(y)\n",
    "df = pd.DataFrame(x)\n",
    "anp = df.groupby(['insectgenus','planttaxon']).size().reset_index(name = 'count')\n",
    "anp.columns = ['source','target','value']\n",
    "xbyz = anp.T.to_dict().values()\n",
    "\n",
    "xcf = []\n",
    "\n",
    "for k in xbyz:\n",
    "    if k not in xcf:\n",
    "        xcf.append(k)"
   ]
  },
  {
   "cell_type": "code",
   "execution_count": 5,
   "metadata": {},
   "outputs": [],
   "source": [
    "links = xcf"
   ]
  },
  {
   "cell_type": "code",
   "execution_count": 6,
   "metadata": {},
   "outputs": [],
   "source": [
    "w = SankeyWidget(links=links, margins=dict(top=0, bottom=0, left=100, right=200))"
   ]
  },
  {
   "cell_type": "code",
   "execution_count": 18,
   "metadata": {},
   "outputs": [
    {
     "data": {
      "application/vnd.jupyter.widget-view+json": {
       "model_id": "a4ecbfbb758c42ee8e84a24b57a57093",
       "version_major": 2,
       "version_minor": 0
      },
      "text/plain": [
       "SankeyWidget(links=[{'source': 'Bombus', 'target': 'Amorpha canescens', 'value': 2}, {'source': 'Bombus', 'tar…"
      ]
     },
     "metadata": {},
     "output_type": "display_data"
    }
   ],
   "source": [
    "# layout = Layout(width=\"1000\", height=\"1200\")\n",
    "# SankeyWidget(links=xcf, layout=layout)\n",
    "w"
   ]
  },
  {
   "cell_type": "code",
   "execution_count": 8,
   "metadata": {},
   "outputs": [],
   "source": [
    "# Get the latitude and longitude position of the taxon \n",
    "\n",
    "lat = Counter(k['latitude'] for k in xi)\n",
    "long = Counter(k['longitude'] for k in xi)\n",
    "\n",
    "latlist = []\n",
    "longlist = []\n",
    "count = []\n",
    "\n",
    "for k in xi:\n",
    "#     if k not in latlist:\n",
    "        latlist.append(k['latitude'])\n",
    "\n",
    "for k in xi:\n",
    "#     if k not in longlist:\n",
    "        longlist.append(k['longitude'])\n",
    "# Get the interation list of Taxon depending on the search\n",
    "p = Counter(k['planttaxon'] for k in xi)\n",
    "\n",
    "# list of Plants\n",
    "i = []\n",
    "for k in xi:\n",
    "        i.append(k['planttaxon'])\n"
   ]
  },
  {
   "cell_type": "markdown",
   "metadata": {},
   "source": [
    "# Outputs"
   ]
  },
  {
   "cell_type": "markdown",
   "metadata": {},
   "source": [
    "## Tabular Data <a class=\"anchor\" id=\"Tabular-Data\"></a>"
   ]
  },
  {
   "cell_type": "code",
   "execution_count": 15,
   "metadata": {},
   "outputs": [],
   "source": [
    "#Data of Location and taxon interaction\n",
    "df_counters = pd.DataFrame(\n",
    "    {\n",
    "     'latitude' : latlist,\n",
    "     'longitude' : longlist,\n",
    "        'planttaxon': i\n",
    "    })\n"
   ]
  },
  {
   "cell_type": "markdown",
   "metadata": {},
   "source": [
    "## Map\n",
    "Produce a Leaflet Map of all modeled location results for Pollinator interactions."
   ]
  },
  {
   "cell_type": "code",
   "execution_count": 10,
   "metadata": {},
   "outputs": [],
   "source": [
    "locations = df_counters[['latitude','longitude']]\n",
    "locationlist=locations.values.tolist()\n",
    "len(locationlist)\n",
    "newlist = []\n",
    "for k in locationlist:\n",
    "    j = [float(i) for i in k]\n",
    "    newlist.append(j)\n",
    "# len(locationlist)\n"
   ]
  },
  {
   "cell_type": "code",
   "execution_count": 11,
   "metadata": {
    "ExecuteTime": {
     "end_time": "2018-05-07T02:20:26.858943Z",
     "start_time": "2018-05-07T02:20:25.954Z"
    }
   },
   "outputs": [
    {
     "data": {
      "text/html": [
       "<div style=\"width:100%;\"><div style=\"position:relative;width:100%;height:0;padding-bottom:60%;\"><iframe src=\"data:text/html;charset=utf-8;base64,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\" style=\"position:absolute;width:100%;height:100%;left:0;top:0;border:none !important;\" allowfullscreen webkitallowfullscreen mozallowfullscreen></iframe></div></div>"
      ],
      "text/plain": [
       "<folium.folium.Map at 0x110da5ba8>"
      ]
     },
     "execution_count": 11,
     "metadata": {},
     "output_type": "execute_result"
    }
   ],
   "source": [
    "# produce a Leaflet map with all Taxon locations\n",
    "map = folium.Map(location=[39.048603, -94.116578], zoom_start=4, tiles='Stamen Terrain'\n",
    ")\n",
    "for point in range(0, len(locationlist)):\n",
    "    folium.Marker(newlist[point], popup=df_counters['planttaxon'][point]).add_to(map)\n",
    "map"
   ]
  },
  {
   "cell_type": "markdown",
   "metadata": {},
   "source": [
    "## Bar Chart <a class=\"anchor\" id=\"Bar-Chart\"></a> \n",
    "Produce bar chart of the modeled results."
   ]
  },
  {
   "cell_type": "code",
   "execution_count": 12,
   "metadata": {},
   "outputs": [
    {
     "data": {
      "text/html": [
       "<iframe id=\"igraph\" scrolling=\"no\" style=\"border:none;\" seamless=\"seamless\" src=\"https://plot.ly/~abhimike17/10.embed\" height=\"800px\" width=\"800px\"></iframe>"
      ],
      "text/plain": [
       "<plotly.tools.PlotlyDisplay object>"
      ]
     },
     "execution_count": 12,
     "metadata": {},
     "output_type": "execute_result"
    }
   ],
   "source": [
    "# Interaction of each plant\n",
    "count = []\n",
    "for k in xi:\n",
    "    count.append(k['count'])\n",
    "\n",
    "    j = []\n",
    "for k in xi:\n",
    "    j.append(k['planttaxon'])\n",
    "    \n",
    "data = [go.Bar(\n",
    "            x=count,\n",
    "            y=j,\n",
    "            orientation = 'h'\n",
    ")]\n",
    "\n",
    "\n",
    "layout = go.Layout(\n",
    "    autosize=True,\n",
    "    width=800,\n",
    "    height=800,\n",
    "    yaxis=go.layout.YAxis(\n",
    "        title='',\n",
    "      \n",
    "        tickmode='array',\n",
    "        automargin=True,\n",
    "        titlefont=dict(size=10),\n",
    "    ),\n",
    "  \n",
    ")\n",
    "\n",
    "fig = go.Figure(data=data, layout=layout)\n",
    "py.iplot(fig, filename='automargin')\n",
    "# py.iplot(data, filename='horizontal-bar')\n",
    "\n"
   ]
  },
  {
   "cell_type": "code",
   "execution_count": 13,
   "metadata": {},
   "outputs": [],
   "source": [
    "def landuse(name):\n",
    "#     name = \"USFWS National Wildlife Refuge\"\n",
    "    zy = filter(lambda x:x['landuse'] == name, xi)\n",
    "    zyp = list(zy)\n",
    "    \n",
    "    pl = []\n",
    "    for k in zyp:\n",
    "            pl.append(k['planttaxon'])\n",
    "\n",
    "    jl = []\n",
    "    for k in zyp:\n",
    "        jl.append(k['count'])\n",
    "        \n",
    "   \n",
    "    return pl, jl\n",
    "mn, nm = landuse(\"USFWS National Wildlife Refuge\")\n",
    "man, nam = landuse(\"USDA Conservation Reserve Program\")\n",
    "abc, bac = landuse(\"Rangeland\")"
   ]
  },
  {
   "cell_type": "code",
   "execution_count": 14,
   "metadata": {},
   "outputs": [
    {
     "name": "stdout",
     "output_type": "stream",
     "text": [
      "High five! You successfully sent some data to your account on plotly. View your plot in your browser at https://plot.ly/~abhimike17/0 or inside your plot.ly account where it is named 'marker-h-bar'\n"
     ]
    },
    {
     "data": {
      "text/html": [
       "<iframe id=\"igraph\" scrolling=\"no\" style=\"border:none;\" seamless=\"seamless\" src=\"https://plot.ly/~abhimike17/0.embed\" height=\"525px\" width=\"100%\"></iframe>"
      ],
      "text/plain": [
       "<plotly.tools.PlotlyDisplay object>"
      ]
     },
     "execution_count": 14,
     "metadata": {},
     "output_type": "execute_result"
    }
   ],
   "source": [
    "trace1 = go.Bar(\n",
    "    y=man,\n",
    "    x=nam,\n",
    "    name='USDA Conservation Reserve Program',\n",
    "    orientation = 'h',\n",
    "    marker = dict(\n",
    "        color = 'rgba(128, 0, 0, 0.60)',\n",
    "        line = dict(\n",
    "            color = 'rgba(128, 0, 0, 0.60)',\n",
    "            width = 3)\n",
    "    )\n",
    ")\n",
    "trace2 = go.Bar(\n",
    "    y=mn,\n",
    "    x=nm,\n",
    "    name='USFWS National Wildlife Refuge',\n",
    "    orientation = 'h',\n",
    "    marker = dict(\n",
    "        color = 'rgba(58, 71, 80, 0.6)',\n",
    "        line = dict(\n",
    "            color = 'rgba(58, 71, 80, 1.0)',\n",
    "            width = 3)\n",
    "    )\n",
    ")\n",
    "trace3 = go.Bar(\n",
    "    y=abc,\n",
    "    x=bac,\n",
    "    name='Rangeland',\n",
    "    orientation = 'h',\n",
    "    marker = dict(\n",
    "        color = 'rgba(0, 0, 128, 0.6)',\n",
    "        line = dict(\n",
    "            color = 'rgba(0, 0, 128, 1.0)',\n",
    "            width = 3)\n",
    "    )\n",
    ")\n",
    "\n",
    "data = [trace1, trace2, trace3]\n",
    "layout = go.Layout(\n",
    "    barmode='stack',\n",
    "    yaxis=go.layout.YAxis(\n",
    "        title='',\n",
    "      \n",
    "        tickmode='array',\n",
    "        automargin=True,\n",
    "        titlefont=dict(size=20),\n",
    "    ),\n",
    "    \n",
    ")\n",
    "\n",
    "fig = go.Figure(data=data, layout=layout)\n",
    "py.iplot(fig, filename='marker-h-bar')"
   ]
  },
  {
   "cell_type": "markdown",
   "metadata": {},
   "source": [
    "# Code\n",
    "Code is available at the "
   ]
  },
  {
   "cell_type": "markdown",
   "metadata": {},
   "source": [
    "# Provenance\n"
   ]
  },
  {
   "cell_type": "markdown",
   "metadata": {},
   "source": [
    "# Citations\n",
    "R Code for Otto, CRV, RB Bryant, NH Euliss Jr., S O'Dell, R Bush, and MD Smart. (2017). Using Publicly Available Data to Quantify Plant-Pollinator Interactions and Evaluate Conservation Seeding Mixes in the Northern Great Plains ###Analysis of data from Pollinator Library\n",
    "\n",
    "R Code prepared by Clint Otto, US Geological Survey, Northern Prairie Wildlife Research Center\n",
    "\n",
    "Analysis started on 06.20.2016\n",
    "\n",
    "Code altered to provide Dan Wieferich with an example of how to take data from the Library,\n",
    "and provide users with graphs and descriptive data. 02.02.2018\n",
    "\n"
   ]
  }
 ],
 "metadata": {
  "kernelspec": {
   "display_name": "Python 3",
   "language": "python",
   "name": "python3"
  },
  "language_info": {
   "codemirror_mode": {
    "name": "ipython",
    "version": 3
   },
   "file_extension": ".py",
   "mimetype": "text/x-python",
   "name": "python",
   "nbconvert_exporter": "python",
   "pygments_lexer": "ipython3",
   "version": "3.7.2"
  },
  "toc": {
   "nav_menu": {},
   "number_sections": true,
   "sideBar": true,
   "skip_h1_title": false,
   "toc_cell": true,
   "toc_position": {},
   "toc_section_display": "block",
   "toc_window_display": false
  }
 },
 "nbformat": 4,
 "nbformat_minor": 2
}
