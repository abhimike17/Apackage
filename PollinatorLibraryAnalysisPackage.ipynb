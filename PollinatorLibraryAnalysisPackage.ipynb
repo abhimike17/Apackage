{
 "cells": [
  {
   "cell_type": "markdown",
   "metadata": {},
   "source": [
    "## Table Of Contents\n",
    "* [Purpose](#Purpose)\n",
    "* [Dependencies](#Dependencies)\n",
    "    * [Python and Anaconda installation](#Python-and-Anaconda-installation)\n",
    "    * [A Python kernel for Jupyter notebooks](#A-Python-kernel-for-Jupyter-notebooks)\n",
    "    * [Load the Python Packages](#Load-the-Python-Packages)\n",
    "* [Inputs](#inputs)\n",
    "* [Outputs](#Outputs)\n",
    "    * [Tabular Data](#Tabular-Data)\n",
    "    * [Map](#Map)\n",
    "    * [Bar Chart](#Bar-Chart)\n",
    "* [Code](#Code)\n",
    "* [Provenance](#Provenance)\n",
    "* [Citations](#Citations)\n",
    "\n",
    "\n",
    "\n",
    "\n",
    "\n",
    "\n",
    "    "
   ]
  },
  {
   "cell_type": "markdown",
   "metadata": {},
   "source": [
    "# Purpose\n",
    "The purpose of this analysis package is to provide greater understanding of plant-pollinator networks and land management activities that improve pollinator habitat through Data-Visualization using Python Packages. The aim of the Pollinator Library is to support management and research of plant-pollinator systems by documenting, synthesizing, and disseminating information on flowers that are utilized by pollinators and other insects."
   ]
  },
  {
   "cell_type": "markdown",
   "metadata": {},
   "source": [
    "# Dependencies\n",
    "\n",
    "Several software packages are required to run this scientific code in a Jupyter notebook.\n",
    "\n",
    "## Python and Anaconda installation <a class=\"anchor\" id=\"Python-and-Anaconda-installation\"></a>\n",
    "\n",
    "Instructions on installing the software environment is available at the(https://www.anaconda.com/download/). Conda is a powerful package manager and environment manager that you use with command line commands at the Anaconda Prompt for Windows, or in a Terminal window for macOS or Linux..\n",
    "   \n",
    "## A Python kernel for Jupyter notebooks <a class=\"anchor\" id=\"A-Python-kernel-for-Jupyter-notebooks\"></a>\n",
    "\n",
    " This notebook uses [Python3 Kernel](https://ipython.readthedocs.io/en/latest/install/kernel_install.html).  "
   ]
  },
  {
   "cell_type": "markdown",
   "metadata": {},
   "source": [
    "## Load the Python Packages <a class=\"anchor\" id=\"Load-the-Python-Packages\"></a>"
   ]
  },
  {
   "cell_type": "code",
   "execution_count": 1,
   "metadata": {
    "ExecuteTime": {
     "end_time": "2018-05-07T01:55:04.588216Z",
     "start_time": "2018-05-07T01:55:04.554Z"
    }
   },
   "outputs": [],
   "source": [
    "from collections import defaultdict,Counter, namedtuple\n",
    "from operator import itemgetter, attrgetter\n",
    "from urllib.request import Request, urlopen\n",
    "from pandas.io.json import json_normalize\n",
    "import json\n",
    "import pandas as pd\n",
    "import shlex\n",
    "from IPython.display import display, Javascript, HTML\n",
    "import folium\n",
    "import plotly.plotly as py\n",
    "import plotly.graph_objs as go\n",
    "import itertools \n",
    "from itertools import groupby\n",
    "import iplotter\n",
    "from ipysankeywidget import SankeyWidget\n",
    "import plotly\n",
    "import plotly.graph_objs as go\n",
    "plotly.tools.set_credentials_file(username='abhimike17', api_key='YtVTWLxeARvUWeNYurX7')"
   ]
  },
  {
   "cell_type": "code",
   "execution_count": 2,
   "metadata": {
    "ExecuteTime": {
     "end_time": "2018-05-07T02:19:06.867980Z",
     "start_time": "2018-05-07T02:19:06.629Z"
    }
   },
   "outputs": [],
   "source": [
    "# Import the REST API Web Service and filter the data\n",
    "api = Request('http://127.0.0.1:8000/pdatas/')\n",
    "Iapi = Request('http://127.0.0.1:8000/locations/')\n",
    "Papi = Request('http://127.0.0.1:8000/locationspsearch/')\n",
    "\n",
    "\n",
    "json_obj = urlopen(api)\n",
    "pdata = json.load(json_obj)\n",
    "\n",
    "Ijson_obj = urlopen(Iapi)\n",
    "locI = json.load(Ijson_obj)\n",
    "\n",
    "Pjson_obj = urlopen(Papi)\n",
    "locP = json.load(Pjson_obj)\n"
   ]
  },
  {
   "cell_type": "code",
   "execution_count": 3,
   "metadata": {},
   "outputs": [],
   "source": [
    "yi = filter(lambda x:x['insecttaxon'] == \"Bombus rufocinctus\", locI)\n",
    "xi = list(yi)\n",
    "lo = []\n",
    "for k in xi:\n",
    "    lo.append(k['latitude'])"
   ]
  },
  {
   "cell_type": "markdown",
   "metadata": {},
   "source": [
    "# Inputs\n",
    "The operational Pollinator Analysis Prototype retrieves data in real-time from the (https://www.npwrc.usgs.gov/pollinator/)'s REST API Web Processing Service."
   ]
  },
  {
   "cell_type": "code",
   "execution_count": 4,
   "metadata": {},
   "outputs": [],
   "source": [
    "# #Mention the Taxon for search and get the desired output\n",
    "y = filter(lambda x:x['insecttaxon'] == \"Bombus rufocinctus\", pdata)\n",
    "x = list(y)\n",
    "df = pd.DataFrame(x)\n",
    "anp = df.groupby(['insectgenus','planttaxon']).size().reset_index(name = 'count')\n",
    "anp.columns = ['source','target','value']\n",
    "xbyz = anp.T.to_dict().values()\n",
    "\n",
    "xcf = []\n",
    "\n",
    "for k in xbyz:\n",
    "    if k not in xcf:\n",
    "        xcf.append(k)"
   ]
  },
  {
   "cell_type": "code",
   "execution_count": 5,
   "metadata": {},
   "outputs": [],
   "source": [
    "links = xcf"
   ]
  },
  {
   "cell_type": "code",
   "execution_count": 6,
   "metadata": {},
   "outputs": [],
   "source": [
    "w = SankeyWidget(links=links, margins=dict(top=0, bottom=0, left=100, right=200))"
   ]
  },
  {
   "cell_type": "code",
   "execution_count": 7,
   "metadata": {},
   "outputs": [
    {
     "data": {
      "application/vnd.jupyter.widget-view+json": {
       "model_id": "df2a6faff7284e2497eb5d439617c39e",
       "version_major": 2,
       "version_minor": 0
      },
      "text/plain": [
       "SankeyWidget(links=[{'source': 'Bombus', 'target': 'Amorpha canescens', 'value': 2}, {'source': 'Bombus', 'tar…"
      ]
     },
     "metadata": {},
     "output_type": "display_data"
    }
   ],
   "source": [
    "# layout = Layout(width=\"1000\", height=\"1200\")\n",
    "# SankeyWidget(links=xcf, layout=layout)\n",
    "w"
   ]
  },
  {
   "cell_type": "code",
   "execution_count": 8,
   "metadata": {},
   "outputs": [],
   "source": [
    "# Get the latitude and longitude position of the taxon \n",
    "\n",
    "lat = Counter(k['latitude'] for k in xi)\n",
    "long = Counter(k['longitude'] for k in xi)\n",
    "\n",
    "latlist = []\n",
    "longlist = []\n",
    "count = []\n",
    "\n",
    "for k in xi:\n",
    "#     if k not in latlist:\n",
    "        latlist.append(k['latitude'])\n",
    "\n",
    "for k in xi:\n",
    "#     if k not in longlist:\n",
    "        longlist.append(k['longitude'])\n",
    "# Get the interation list of Taxon depending on the search\n",
    "p = Counter(k['planttaxon'] for k in xi)\n",
    "\n",
    "# list of Plants\n",
    "i = []\n",
    "for k in xi:\n",
    "        i.append(k['planttaxon'])\n"
   ]
  },
  {
   "cell_type": "markdown",
   "metadata": {},
   "source": [
    "# Outputs"
   ]
  },
  {
   "cell_type": "markdown",
   "metadata": {},
   "source": [
    "## Tabular Data <a class=\"anchor\" id=\"Tabular-Data\"></a>"
   ]
  },
  {
   "cell_type": "code",
   "execution_count": 9,
   "metadata": {},
   "outputs": [],
   "source": [
    "#Data of Location and taxon interaction\n",
    "df_counters = pd.DataFrame(\n",
    "    {\n",
    "     'latitude' : latlist,\n",
    "     'longitude' : longlist,\n",
    "        'planttaxon': i\n",
    "    })\n"
   ]
  },
  {
   "cell_type": "markdown",
   "metadata": {},
   "source": [
    "## Map\n",
    "Produce a Leaflet Map of all modeled location results for Pollinator interactions."
   ]
  },
  {
   "cell_type": "code",
   "execution_count": 10,
   "metadata": {},
   "outputs": [],
   "source": [
    "locations = df_counters[['latitude','longitude']]\n",
    "locationlist=locations.values.tolist()\n",
    "len(locationlist)\n",
    "newlist = []\n",
    "for k in locationlist:\n",
    "    j = [float(i) for i in k]\n",
    "    newlist.append(j)\n",
    "# len(locationlist)\n"
   ]
  },
  {
   "cell_type": "code",
   "execution_count": 11,
   "metadata": {
    "ExecuteTime": {
     "end_time": "2018-05-07T02:20:26.858943Z",
     "start_time": "2018-05-07T02:20:25.954Z"
    }
   },
   "outputs": [
    {
     "data": {
      "text/html": [
       "<div style=\"width:100%;\"><div style=\"position:relative;width:100%;height:0;padding-bottom:60%;\"><iframe src=\"data:text/html;charset=utf-8;base64,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\" style=\"position:absolute;width:100%;height:100%;left:0;top:0;border:none !important;\" allowfullscreen webkitallowfullscreen mozallowfullscreen></iframe></div></div>"
      ],
      "text/plain": [
       "<folium.folium.Map at 0x117d23c18>"
      ]
     },
     "execution_count": 11,
     "metadata": {},
     "output_type": "execute_result"
    }
   ],
   "source": [
    "# produce a Leaflet map with all Taxon locations\n",
    "map = folium.Map(location=[39.048603, -94.116578], zoom_start=4, tiles='Stamen Terrain'\n",
    ")\n",
    "for point in range(0, len(locationlist)):\n",
    "    folium.Marker(newlist[point], popup=df_counters['planttaxon'][point]).add_to(map)\n",
    "map"
   ]
  },
  {
   "cell_type": "markdown",
   "metadata": {},
   "source": [
    "## Bar Chart <a class=\"anchor\" id=\"Bar-Chart\"></a> \n",
    "Produce bar chart of the modeled results."
   ]
  },
  {
   "cell_type": "code",
   "execution_count": 12,
   "metadata": {},
   "outputs": [
    {
     "data": {
      "text/html": [
       "<iframe id=\"igraph\" scrolling=\"no\" style=\"border:none;\" seamless=\"seamless\" src=\"https://plot.ly/~abhimike17/10.embed\" height=\"800px\" width=\"800px\"></iframe>"
      ],
      "text/plain": [
       "<plotly.tools.PlotlyDisplay object>"
      ]
     },
     "execution_count": 12,
     "metadata": {},
     "output_type": "execute_result"
    }
   ],
   "source": [
    "# Interaction of each plant\n",
    "count = []\n",
    "for k in xi:\n",
    "    count.append(k['count'])\n",
    "\n",
    "    j = []\n",
    "for k in xi:\n",
    "    j.append(k['planttaxon'])\n",
    "    \n",
    "data = [go.Bar(\n",
    "            x=count,\n",
    "            y=j,\n",
    "            orientation = 'h'\n",
    ")]\n",
    "\n",
    "\n",
    "layout = go.Layout(\n",
    "    autosize=True,\n",
    "    width=800,\n",
    "    height=800,\n",
    "    yaxis=go.layout.YAxis(\n",
    "        title='',\n",
    "      \n",
    "        tickmode='array',\n",
    "        automargin=True,\n",
    "        titlefont=dict(size=10),\n",
    "    ),\n",
    "  \n",
    ")\n",
    "\n",
    "fig = go.Figure(data=data, layout=layout)\n",
    "py.iplot(fig, filename='automargin')\n",
    "# py.iplot(data, filename='horizontal-bar')\n",
    "\n"
   ]
  },
  {
   "cell_type": "code",
   "execution_count": 13,
   "metadata": {},
   "outputs": [],
   "source": [
    "def landuse(name):\n",
    "#     name = \"USFWS National Wildlife Refuge\"\n",
    "    zy = filter(lambda x:x['landuse'] == name, xi)\n",
    "    zyp = list(zy)\n",
    "    \n",
    "    pl = []\n",
    "    for k in zyp:\n",
    "            pl.append(k['planttaxon'])\n",
    "\n",
    "    jl = []\n",
    "    for k in zyp:\n",
    "        jl.append(k['count'])\n",
    "        \n",
    "   \n",
    "    return pl, jl\n",
    "mn, nm = landuse(\"USFWS National Wildlife Refuge\")\n",
    "man, nam = landuse(\"USDA Conservation Reserve Program\")\n",
    "abc, bac = landuse(\"Rangeland\")"
   ]
  },
  {
   "cell_type": "code",
   "execution_count": 14,
   "metadata": {},
   "outputs": [
    {
     "name": "stdout",
     "output_type": "stream",
     "text": [
      "High five! You successfully sent some data to your account on plotly. View your plot in your browser at https://plot.ly/~abhimike17/0 or inside your plot.ly account where it is named 'marker-h-bar'\n"
     ]
    },
    {
     "data": {
      "text/html": [
       "<iframe id=\"igraph\" scrolling=\"no\" style=\"border:none;\" seamless=\"seamless\" src=\"https://plot.ly/~abhimike17/0.embed\" height=\"525px\" width=\"100%\"></iframe>"
      ],
      "text/plain": [
       "<plotly.tools.PlotlyDisplay object>"
      ]
     },
     "execution_count": 14,
     "metadata": {},
     "output_type": "execute_result"
    }
   ],
   "source": [
    "trace1 = go.Bar(\n",
    "    y=man,\n",
    "    x=nam,\n",
    "    name='USDA Conservation Reserve Program',\n",
    "    orientation = 'h',\n",
    "    marker = dict(\n",
    "        color = 'rgba(128, 0, 0, 0.60)',\n",
    "        line = dict(\n",
    "            color = 'rgba(128, 0, 0, 0.60)',\n",
    "            width = 3)\n",
    "    )\n",
    ")\n",
    "trace2 = go.Bar(\n",
    "    y=mn,\n",
    "    x=nm,\n",
    "    name='USFWS National Wildlife Refuge',\n",
    "    orientation = 'h',\n",
    "    marker = dict(\n",
    "        color = 'rgba(58, 71, 80, 0.6)',\n",
    "        line = dict(\n",
    "            color = 'rgba(58, 71, 80, 1.0)',\n",
    "            width = 3)\n",
    "    )\n",
    ")\n",
    "trace3 = go.Bar(\n",
    "    y=abc,\n",
    "    x=bac,\n",
    "    name='Rangeland',\n",
    "    orientation = 'h',\n",
    "    marker = dict(\n",
    "        color = 'rgba(0, 0, 128, 0.6)',\n",
    "        line = dict(\n",
    "            color = 'rgba(0, 0, 128, 1.0)',\n",
    "            width = 3)\n",
    "    )\n",
    ")\n",
    "\n",
    "data = [trace1, trace2, trace3]\n",
    "layout = go.Layout(\n",
    "    barmode='stack',\n",
    "    yaxis=go.layout.YAxis(\n",
    "        title='',\n",
    "      \n",
    "        tickmode='array',\n",
    "        automargin=True,\n",
    "        titlefont=dict(size=20),\n",
    "    ),\n",
    "    \n",
    ")\n",
    "\n",
    "fig = go.Figure(data=data, layout=layout)\n",
    "py.iplot(fig, filename='marker-h-bar')"
   ]
  },
  {
   "cell_type": "markdown",
   "metadata": {},
   "source": [
    "# Code\n",
    "Code is available at the "
   ]
  },
  {
   "cell_type": "markdown",
   "metadata": {},
   "source": [
    "# Provenance\n"
   ]
  },
  {
   "cell_type": "markdown",
   "metadata": {},
   "source": [
    "# Citations\n",
    "R Code for Otto, CRV, RB Bryant, NH Euliss Jr., S O'Dell, R Bush, and MD Smart. (2017). Using Publicly Available Data to Quantify Plant-Pollinator Interactions and Evaluate Conservation Seeding Mixes in the Northern Great Plains ###Analysis of data from Pollinator Library\n",
    "\n",
    "R Code prepared by Clint Otto, US Geological Survey, Northern Prairie Wildlife Research Center\n",
    "\n",
    "Analysis started on 06.20.2016\n",
    "\n",
    "Code altered to provide Dan Wieferich with an example of how to take data from the Library,\n",
    "and provide users with graphs and descriptive data. 02.02.2018\n",
    "\n"
   ]
  }
 ],
 "metadata": {
  "kernelspec": {
   "display_name": "Python 3",
   "language": "python",
   "name": "python3"
  },
  "language_info": {
   "codemirror_mode": {
    "name": "ipython",
    "version": 3
   },
   "file_extension": ".py",
   "mimetype": "text/x-python",
   "name": "python",
   "nbconvert_exporter": "python",
   "pygments_lexer": "ipython3",
   "version": "3.7.2"
  },
  "toc": {
   "nav_menu": {},
   "number_sections": true,
   "sideBar": true,
   "skip_h1_title": false,
   "toc_cell": true,
   "toc_position": {},
   "toc_section_display": "block",
   "toc_window_display": false
  }
 },
 "nbformat": 4,
 "nbformat_minor": 2
}
